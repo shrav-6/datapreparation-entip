{
  "cells": [
    {
      "cell_type": "markdown",
      "metadata": {
        "id": "urbKmYK02O1N"
      },
      "source": [
        "#__Scraping the data:__"
      ]
    },
    {
      "cell_type": "code",
      "source": [
        "# importing libraries\n",
        "import requests\n",
        "import json\n",
        "import pandas as pd\n",
        "import os\n",
        "import sys\n",
        "import time\n",
        "import pandas as pd\n",
        "import numpy as np\n",
        "import ast"
      ],
      "metadata": {
        "id": "vrxlv5oRXTcT"
      },
      "execution_count": null,
      "outputs": []
    },
    {
      "cell_type": "code",
      "source": [
        "# example api request according to tmdb's api documentation: https://api.themoviedb.org/3/movie/550?api_key=\"API_KEY\"\n",
        "# obtain the api key from here: \"https://www.themoviedb.org/settings/api\"\n",
        "API_KEY = \"##############################\" "
      ],
      "metadata": {
        "id": "s6QoFEXaXgM1"
      },
      "execution_count": null,
      "outputs": []
    },
    {
      "cell_type": "code",
      "source": [
        "# declaring variables\n",
        "tvid_list, image_list, created_by_list, episode_run_time_list, first_air_date_list, genres_list, networks_list, number_of_episodes_list, number_of_seasons_list = [[],[],[],[],[],[],[],[],[]]\n",
        "origin_country_list, original_name_list, overview_list, popularity_list, production_companies_list, status_list = [[],[],[],[],[],[]]\n",
        "tagline_list, rating_list, vote_count_list = [[],[],[]]\n",
        "cast_list, crew_list = [[],[]]"
      ],
      "metadata": {
        "id": "M04lqtYSXxpV"
      },
      "execution_count": null,
      "outputs": []
    },
    {
      "cell_type": "code",
      "source": [
        "# load the tv id's from the tmdb's json file updated as on 29th december 2021\n",
        "# daily file exports run around 7:00 AM UTC, and all files are available by 8:00 AM UTC - https://developers.themoviedb.org/\n",
        "data = [json.loads(line) for line in open(os.path.join(sys.path[0], \"tv_series_ids_12_29_2021.json\"), \"r\", encoding=\"utf8\")]\n",
        "TV_IDS = []\n",
        "for my_dict in data:\n",
        "    TV_IDS.append(my_dict['id'])"
      ],
      "metadata": {
        "id": "2vK3sIapX0yN"
      },
      "execution_count": null,
      "outputs": []
    },
    {
      "cell_type": "code",
      "source": [
        "# iterating over each tv id (length of TV_IDS = 121906)\n",
        "st = time.time()\n",
        "for TV_ID in TV_IDS: \n",
        "    response = requests.get(\"https://api.themoviedb.org/3/tv/{}?api_key={}\".format(TV_ID,API_KEY))\n",
        "    if response.status_code == 200 and response.json()['original_language'] == 'en': #scraping for english tv shows\n",
        "        tv_dict = response.json()\n",
        "\n",
        "        tvid_list.append(TV_ID) \n",
        "\n",
        "        #getting image data\n",
        "        response_img_obj = requests.get(\"https://api.themoviedb.org/3/tv/{}/images?api_key={}\".format(TV_ID,API_KEY))\n",
        "        image_dict = response_img_obj.json()\n",
        "        posters_aspect_ratio,posters_file_path,posters_height,posters_width = None,None,None,None \n",
        "        if image_dict['posters'] != []:\n",
        "            posters_aspect_ratio = image_dict['posters'][0]['aspect_ratio']\n",
        "            posters_file_path = image_dict['posters'][0]['file_path']\n",
        "            posters_height = image_dict['posters'][0]['height']\n",
        "            posters_width = image_dict['posters'][0]['width']\n",
        "        image_info = {'par':posters_aspect_ratio,'pfp':posters_file_path,'ph':posters_height,'pw':posters_width}\n",
        "        image_list.append(image_info)\n",
        "\n",
        "        response_credits_obj = requests.get(\"https://api.themoviedb.org/3/tv/{}/credits?api_key={}\".format(TV_ID,API_KEY))\n",
        "        if response_credits_obj.status_code == 200:\n",
        "            cast_list.append(response_credits_obj.json()['cast'])             \n",
        "        else:\n",
        "            pass\n",
        "                        \n",
        "        genres_list.append(tv_dict['genres'])     \n",
        "        networks_list.append(tv_dict['networks'])\n",
        "        original_name_list.append(tv_dict['original_name'])\n",
        "        overview_list.append(tv_dict['overview'])\n",
        "        popularity_list.append(tv_dict['popularity'])\n",
        "        tagline_list.append(tv_dict['tagline'])\n",
        "        rating_list.append(tv_dict['vote_average'])\n",
        "    else:\n",
        "        pass\n",
        "\n",
        "temp_dict = {'TV ID':tvid_list,'IMAGE INFO': image_list,\n",
        "             'GENRES':genres_list,'NETWORKS':networks_list,            \n",
        "             'TITLE':original_name_list,'OVERVIEW':overview_list,'POPULARITY':popularity_list,\n",
        "            'TAGLINE':tagline_list,'RATING':rating_list,'CAST':cast_list}\n",
        "\n",
        "tv_df= pd.DataFrame(temp_dict)\n",
        "tv_df.set_index('TV ID',inplace=True)\n",
        "tv_df.to_csv('tv_series_db.csv',mode='a',header=False) # storing scrapped data\n",
        "print(\"time taken:\",time.time()-st)"
      ],
      "metadata": {
        "id": "UxrH58awYpuj"
      },
      "execution_count": null,
      "outputs": []
    },
    {
      "cell_type": "markdown",
      "source": [
        "#__Preparing the Dataset__"
      ],
      "metadata": {
        "id": "7jFdo2fGZvCC"
      }
    },
    {
      "cell_type": "code",
      "execution_count": null,
      "metadata": {
        "id": "ysN6HgX62O1Q"
      },
      "outputs": [],
      "source": [
        "tvseries = pd.read_csv('tv_series_db.csv')"
      ]
    },
    {
      "cell_type": "code",
      "execution_count": null,
      "metadata": {
        "id": "Ejywtc-52O1S"
      },
      "outputs": [],
      "source": [
        "tvseries.head()"
      ]
    },
    {
      "cell_type": "code",
      "execution_count": null,
      "metadata": {
        "id": "uxsfYYBg2O1R"
      },
      "outputs": [],
      "source": [
        "# replace NaN to meaningful values\n",
        "tvseries[['IMAGE INFO','GENRES','NETWORKS','OVERVIEW','TAGLINE','CAST']] = tvseries[['IMAGE INFO','GENRES','NETWORKS','OVERVIEW','TAGLINE','CAST']].fillna('')\n",
        "tvseries[['POPULARITY','RATING']] = tvseries[['POPULARITY','RATING']].fillna(0)\n",
        "tvseries.replace('',None)"
      ]
    },
    {
      "cell_type": "code",
      "execution_count": null,
      "metadata": {
        "id": "cXGojKNE2O1R"
      },
      "outputs": [],
      "source": [
        "tvseries[tvseries['TV ID'].isnull()].index.tolist()"
      ]
    },
    {
      "cell_type": "code",
      "source": [
        "tvseries = tvseries.drop([4124]) # dropping the null records"
      ],
      "metadata": {
        "id": "r2P32eTr-hXI"
      },
      "execution_count": null,
      "outputs": []
    },
    {
      "cell_type": "markdown",
      "source": [
        "##Cleaning image info"
      ],
      "metadata": {
        "id": "xAm1-etcayIW"
      }
    },
    {
      "cell_type": "code",
      "execution_count": null,
      "metadata": {
        "id": "-t0pmBOB2O1S"
      },
      "outputs": [],
      "source": [
        "def tocleanimageinfo(string,i):\n",
        "    lst = []\n",
        "    try:\n",
        "        dict = ast.literal_eval(string)\n",
        "        lst.append(dict)\n",
        "    except SyntaxError:\n",
        "        print('Syntax Error at',i)\n",
        "    except ValueError:\n",
        "        print('value error at',i)\n",
        "    return lst\n",
        "tvseries['IMAGE INFO'] = np.vectorize(tocleanimageinfo)(tvseries['IMAGE INFO'], tvseries['TV ID'])"
      ]
    },
    {
      "cell_type": "code",
      "execution_count": null,
      "metadata": {
        "id": "3R6gpx602O1S"
      },
      "outputs": [],
      "source": [
        "print(type(tvseries.iloc[0]['IMAGE INFO']))\n",
        "print(tvseries.iloc[0]['IMAGE INFO'])"
      ]
    },
    {
      "cell_type": "markdown",
      "source": [
        "##Cleaning Genres"
      ],
      "metadata": {
        "id": "OfT_Smp1a-OS"
      }
    },
    {
      "cell_type": "code",
      "execution_count": null,
      "metadata": {
        "id": "imGMim9o2O1T"
      },
      "outputs": [],
      "source": [
        "tvseries.iloc[0]['GENRES']"
      ]
    },
    {
      "cell_type": "code",
      "execution_count": null,
      "metadata": {
        "id": "Yao7x6-K2O1T"
      },
      "outputs": [],
      "source": [
        "def tocleangenres(tobecleaned):\n",
        "    cleanlist = []\n",
        "    for item in ast.literal_eval(tobecleaned):\n",
        "      cleanlist.append(item['name'])\n",
        "    return cleanlist\n",
        "tvseries['GENRES'] = tvseries['GENRES'].apply(tocleangenres)"
      ]
    },
    {
      "cell_type": "code",
      "execution_count": null,
      "metadata": {
        "id": "pmyhZwDe2O1T"
      },
      "outputs": [],
      "source": [
        "tvseries.iloc[0]['GENRES']"
      ]
    },
    {
      "cell_type": "markdown",
      "source": [
        "##Cleaning cast"
      ],
      "metadata": {
        "id": "b1vyKlmdbDQn"
      }
    },
    {
      "cell_type": "code",
      "execution_count": null,
      "metadata": {
        "id": "FcWpXXRV2O1U"
      },
      "outputs": [],
      "source": [
        "tvseries.iloc[10]['CAST']"
      ]
    },
    {
      "cell_type": "code",
      "execution_count": null,
      "metadata": {
        "id": "QyyIlYo32O1V"
      },
      "outputs": [],
      "source": [
        "def tocleancast(tobecleaned):\n",
        "  cleanlist = []\n",
        "  for item in ast.literal_eval(tobecleaned):\n",
        "    cleanlist.append(item['name'])\n",
        "  return cleanlist\n",
        "tvseries['CAST'] = tvseries['CAST'].apply(tocleancast)"
      ]
    },
    {
      "cell_type": "code",
      "source": [
        "tvseries[tvseries['TITLE']=='Friends']['CAST']"
      ],
      "metadata": {
        "id": "MiqUZLh__VE6"
      },
      "execution_count": null,
      "outputs": []
    },
    {
      "cell_type": "markdown",
      "source": [
        "##Cleaning networks"
      ],
      "metadata": {
        "id": "Y7YdhqWEbzsM"
      }
    },
    {
      "cell_type": "code",
      "source": [
        "print(tvseries.iloc[0][\"NETWORKS\"])"
      ],
      "metadata": {
        "id": "CAQosGl2EwPA"
      },
      "execution_count": null,
      "outputs": []
    },
    {
      "cell_type": "code",
      "source": [
        "def tocleannetworks(tobecleaned):\n",
        "    cleanlist = []\n",
        "    for item in ast.literal_eval(tobecleaned):\n",
        "      cleanlist.append(item['name'])\n",
        "    return cleanlist\n",
        "tvseries['NETWORKS'] = tvseries['NETWORKS'].apply(tocleannetworks)"
      ],
      "metadata": {
        "id": "b4t7_6zYEN6q"
      },
      "execution_count": null,
      "outputs": []
    },
    {
      "cell_type": "code",
      "source": [
        "tvseries[tvseries['TITLE'].isnull()].index.tolist() # drop tv series with no title"
      ],
      "metadata": {
        "id": "Icjxbl_-Lc1h"
      },
      "execution_count": null,
      "outputs": []
    },
    {
      "cell_type": "markdown",
      "source": [
        "##Popularity and rating were found to be clean:"
      ],
      "metadata": {
        "id": "uIhDuD-mcQmd"
      }
    },
    {
      "cell_type": "code",
      "source": [
        "type(tvseries.iloc[0]['POPULARITY'])\n",
        "type(tvseries.iloc[0]['RATING'])"
      ],
      "metadata": {
        "id": "3m1U9InSJJh5"
      },
      "execution_count": null,
      "outputs": []
    },
    {
      "cell_type": "code",
      "source": [
        "tvseries['POPULARITY'].isnull().sum()\n",
        "tvseries['RATING'].isnull().sum()"
      ],
      "metadata": {
        "id": "XVKpoRn7cKuY"
      },
      "execution_count": null,
      "outputs": []
    },
    {
      "cell_type": "code",
      "source": [
        "tvseries.head() # dataset is clean"
      ],
      "metadata": {
        "id": "ebW7DBqbJC96"
      },
      "execution_count": null,
      "outputs": []
    },
    {
      "cell_type": "markdown",
      "source": [
        "#__Store the cleaned dataset__:"
      ],
      "metadata": {
        "id": "5tiZ_Z0DcYMJ"
      }
    },
    {
      "cell_type": "code",
      "source": [
        "tvseries.to_csv('cleaned_tvseries.csv')"
      ],
      "metadata": {
        "id": "Nd-ROaO6J__6"
      },
      "execution_count": null,
      "outputs": []
    }
  ],
  "metadata": {
    "interpreter": {
      "hash": "91511b98dffabb385a5cf53b56c63e942b170aab3737f634b092829ffe3dee6c"
    },
    "kernelspec": {
      "display_name": "Python 3.9.0 64-bit",
      "language": "python",
      "name": "python3"
    },
    "language_info": {
      "codemirror_mode": {
        "name": "ipython",
        "version": 3
      },
      "file_extension": ".py",
      "mimetype": "text/x-python",
      "name": "python",
      "nbconvert_exporter": "python",
      "pygments_lexer": "ipython3",
      "version": "3.9.0"
    },
    "orig_nbformat": 4,
    "colab": {
      "name": "cleaning.ipynb",
      "provenance": [],
      "collapsed_sections": []
    }
  },
  "nbformat": 4,
  "nbformat_minor": 0
}